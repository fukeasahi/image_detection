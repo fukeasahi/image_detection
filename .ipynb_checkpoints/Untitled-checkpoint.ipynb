{
 "cells": [
  {
   "cell_type": "code",
   "execution_count": 1,
   "metadata": {},
   "outputs": [],
   "source": []
  },
  {
   "cell_type": "code",
   "execution_count": 2,
   "metadata": {},
   "outputs": [],
   "source": []
  },
  {
   "cell_type": "code",
   "execution_count": 2,
   "metadata": {},
   "outputs": [],
   "source": [
    "import cv2\n",
    "from IPython.display import display, Image\n",
    "\n",
    "if __name__ == \"__main__\":\n",
    "    cap = cv2.VideoCapture(0)\n",
    "    cascade_path = \"./opencv-master/data/haarcascades/haarcascade_frontalcatface.xml\"\n",
    "    cascade = cv2.CascadeClassifier(cascade_path)\n",
    "    \n",
    "    color = (255,255,255)\n",
    "    \n",
    "    while True:\n",
    "        ret, frame = cap.read()\n",
    "        facerect = cascade.detectMultiScale(frame,scaleFactor=1.2, minNeighbors=2,minSize=(10,10))\n",
    "        \n",
    "        if  len(facerect) > 0:\n",
    "            for rect in facerect:\n",
    "                cv2.rectangle(frame,tuple(rect[0:2]),tuple(rect[0:2]+rect[2:4]),color)\n",
    "                \n",
    "        cv2.imshow(\"frame\",frame)\n",
    "        if cv2.waitKey(1) & 0xff == ord(\"q\"):\n",
    "            break\n",
    "            \n",
    "    cap.release()\n",
    "    cv2.destroyAllWindows()"
   ]
  },
  {
   "cell_type": "code",
   "execution_count": 20,
   "metadata": {},
   "outputs": [],
   "source": [
    "\n",
    "# # VideoCapture オブジェクトを取得します\n",
    "# capture = cv2.VideoCapture(0)\n",
    "\n",
    "# while(True):\n",
    "#     ret, frame = capture.read()\n",
    "#     cv2.imshow('frame',frame)\n",
    "#     if cv2.waitKey(1) & 0xFF == ord('q'):\n",
    "#         break\n",
    "\n",
    "# capture.release()\n",
    "# cv2.destroyAllWindows()"
   ]
  },
  {
   "cell_type": "code",
   "execution_count": null,
   "metadata": {},
   "outputs": [],
   "source": []
  },
  {
   "cell_type": "code",
   "execution_count": null,
   "metadata": {},
   "outputs": [],
   "source": []
  },
  {
   "cell_type": "code",
   "execution_count": null,
   "metadata": {},
   "outputs": [],
   "source": []
  },
  {
   "cell_type": "code",
   "execution_count": null,
   "metadata": {},
   "outputs": [],
   "source": []
  },
  {
   "cell_type": "code",
   "execution_count": null,
   "metadata": {},
   "outputs": [],
   "source": []
  },
  {
   "cell_type": "code",
   "execution_count": null,
   "metadata": {},
   "outputs": [],
   "source": []
  }
 ],
 "metadata": {
  "kernelspec": {
   "display_name": "Python 3",
   "language": "python",
   "name": "python3"
  },
  "language_info": {
   "codemirror_mode": {
    "name": "ipython",
    "version": 3
   },
   "file_extension": ".py",
   "mimetype": "text/x-python",
   "name": "python",
   "nbconvert_exporter": "python",
   "pygments_lexer": "ipython3",
   "version": "3.8.3"
  }
 },
 "nbformat": 4,
 "nbformat_minor": 4
}
